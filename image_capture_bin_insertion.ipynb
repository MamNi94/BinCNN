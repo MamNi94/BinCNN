{
 "cells": [
  {
   "cell_type": "code",
   "execution_count": 1,
   "metadata": {},
   "outputs": [],
   "source": [
    "import pyrealsense2 as rs\n",
    "import numpy as np\n",
    "import cv2\n",
    "import os"
   ]
  },
  {
   "cell_type": "code",
   "execution_count": 2,
   "metadata": {},
   "outputs": [],
   "source": [
    "save_dir = 'data/positive'\n",
    "os.makedirs(save_dir,exist_ok = True)"
   ]
  },
  {
   "cell_type": "code",
   "execution_count": 3,
   "metadata": {},
   "outputs": [
    {
     "data": {
      "text/plain": [
       "<pyrealsense2.pyrealsense2.pipeline_profile at 0x17828b81f70>"
      ]
     },
     "execution_count": 3,
     "metadata": {},
     "output_type": "execute_result"
    }
   ],
   "source": [
    "pipeline = rs.pipeline()\n",
    "config = rs.config()\n",
    "\n",
    "config.enable_stream(rs.stream.color,1920,1080, rs.format.bgr8,30)\n",
    "\n",
    "pipeline.start(config)"
   ]
  },
  {
   "cell_type": "code",
   "execution_count": 4,
   "metadata": {},
   "outputs": [
    {
     "name": "stdout",
     "output_type": "stream",
     "text": [
      "Prss 's' to capture and save and image. Press 'q' to quit.\n"
     ]
    }
   ],
   "source": [
    "try:\n",
    "    print(\"Prss 's' to capture and save and image. Press 'q' to quit.\")\n",
    "    image_count = 0\n",
    "    while True:\n",
    "        frames = pipeline.wait_for_frames()\n",
    "        color_frame  = frames.get_color_frame()\n",
    "\n",
    "        if not color_frame:\n",
    "            continue\n",
    "\n",
    "        color_image = np.asanyarray(color_frame.get_data())\n",
    "\n",
    "        cv2.imshow('RealSense', color_image)\n",
    "\n",
    "        key = cv2.waitKey(1)\n",
    "\n",
    "        if key == ord('s'):\n",
    "            image_path = os.path.join(save_dir, f'positive_{image_count}.jpg')\n",
    "            cv2.imwrite(image_path,color_image)\n",
    "            print(f'image saved: {image_path}')\n",
    "            image_count +=1\n",
    "\n",
    "        if key == ord('q'):\n",
    "             \n",
    "            break\n",
    "\n",
    "finally:\n",
    "    pipeline.stop()\n",
    "    cv2.destroyAllWindows()\n",
    "   \n",
    "\n"
   ]
  }
 ],
 "metadata": {
  "kernelspec": {
   "display_name": "Python 3",
   "language": "python",
   "name": "python3"
  },
  "language_info": {
   "codemirror_mode": {
    "name": "ipython",
    "version": 3
   },
   "file_extension": ".py",
   "mimetype": "text/x-python",
   "name": "python",
   "nbconvert_exporter": "python",
   "pygments_lexer": "ipython3",
   "version": "3.11.9"
  }
 },
 "nbformat": 4,
 "nbformat_minor": 2
}
